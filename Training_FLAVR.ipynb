{
  "nbformat": 4,
  "nbformat_minor": 0,
  "metadata": {
    "colab": {
      "provenance": [],
      "authorship_tag": "ABX9TyO/x92ti1PPyHS3rmU1CT9J",
      "include_colab_link": true
    },
    "kernelspec": {
      "name": "python3",
      "display_name": "Python 3"
    },
    "language_info": {
      "name": "python"
    },
    "accelerator": "GPU",
    "gpuClass": "standard"
  },
  "cells": [
    {
      "cell_type": "markdown",
      "metadata": {
        "id": "view-in-github",
        "colab_type": "text"
      },
      "source": [
        "<a href=\"https://colab.research.google.com/github/trieuduongle/FLAVR/blob/colab/Training_FLAVR.ipynb\" target=\"_parent\"><img src=\"https://colab.research.google.com/assets/colab-badge.svg\" alt=\"Open In Colab\"/></a>"
      ]
    },
    {
      "cell_type": "code",
      "execution_count": 1,
      "metadata": {
        "id": "holsmMm9K7ZW",
        "outputId": "e40373fc-1568-4727-9a7a-441c2f75cfc2",
        "colab": {
          "base_uri": "https://localhost:8080/"
        }
      },
      "outputs": [
        {
          "output_type": "stream",
          "name": "stdout",
          "text": [
            "Mounted at /content/drive\n"
          ]
        }
      ],
      "source": [
        "from google.colab import drive\n",
        "drive.mount('/content/drive', force_remount=True)"
      ]
    },
    {
      "cell_type": "code",
      "source": [
        "!git clone https://github.com/trieuduongle/FLAVR.git '/content/drive/My Drive/Duong/FLAVR/code'"
      ],
      "metadata": {
        "id": "zpiLPPDiM6xQ",
        "outputId": "7750c55e-61aa-4500-f56f-f85c442ccd48",
        "colab": {
          "base_uri": "https://localhost:8080/"
        }
      },
      "execution_count": null,
      "outputs": [
        {
          "output_type": "stream",
          "name": "stdout",
          "text": [
            "Cloning into '/content/drive/My Drive/Duong/FLAVR/code'...\n",
            "remote: Enumerating objects: 296, done.\u001b[K\n",
            "remote: Counting objects: 100% (37/37), done.\u001b[K\n",
            "remote: Compressing objects: 100% (15/15), done.\u001b[K\n",
            "remote: Total 296 (delta 28), reused 22 (delta 22), pack-reused 259\u001b[K\n",
            "Receiving objects: 100% (296/296), 33.80 MiB | 17.45 MiB/s, done.\n",
            "Resolving deltas: 100% (161/161), done.\n"
          ]
        }
      ]
    },
    {
      "cell_type": "code",
      "source": [
        "%cd '/content/drive/My Drive/Duong/FLAVR/code'"
      ],
      "metadata": {
        "id": "JzGeXaRVNIQj",
        "outputId": "39d42041-888c-410d-9d1f-9e3877b0f90d",
        "colab": {
          "base_uri": "https://localhost:8080/"
        }
      },
      "execution_count": 2,
      "outputs": [
        {
          "output_type": "stream",
          "name": "stdout",
          "text": [
            "/content/drive/My Drive/Duong/FLAVR/code\n"
          ]
        }
      ]
    },
    {
      "cell_type": "code",
      "source": [
        "!git checkout colab && git pull && pip install -r requirements.txt -f https://download.pytorch.org/whl/cu111/torch_stable.html"
      ],
      "metadata": {
        "id": "V8NdXX4-NSEa",
        "outputId": "9cd7a1d5-2f32-4143-9867-57a951db5e04",
        "colab": {
          "base_uri": "https://localhost:8080/"
        }
      },
      "execution_count": null,
      "outputs": [
        {
          "output_type": "stream",
          "name": "stdout",
          "text": [
            "Already on 'colab'\n",
            "Your branch is up to date with 'origin/colab'.\n",
            "remote: Enumerating objects: 5, done.\u001b[K\n",
            "remote: Counting objects: 100% (5/5), done.\u001b[K\n",
            "remote: Compressing objects: 100% (3/3), done.\u001b[K\n",
            "remote: Total 3 (delta 1), reused 0 (delta 0), pack-reused 0\u001b[K\n",
            "Unpacking objects: 100% (3/3), done.\n",
            "From https://github.com/trieuduongle/FLAVR\n",
            "   49a6546..dc7638c  colab      -> origin/colab\n",
            "Updating 49a6546..dc7638c\n",
            "Fast-forward\n",
            " requirements.txt | 2 \u001b[32m+\u001b[m\u001b[31m-\u001b[m\n",
            " 1 file changed, 1 insertion(+), 1 deletion(-)\n",
            "Looking in indexes: https://pypi.org/simple, https://us-python.pkg.dev/colab-wheels/public/simple/\n",
            "Looking in links: https://download.pytorch.org/whl/cu111/torch_stable.html\n",
            "Collecting matplotlib==3.5.3\n",
            "  Using cached matplotlib-3.5.3-cp37-cp37m-manylinux_2_5_x86_64.manylinux1_x86_64.whl (11.2 MB)\n",
            "Collecting numpy==1.19.2\n",
            "  Using cached numpy-1.19.2-cp37-cp37m-manylinux2010_x86_64.whl (14.5 MB)\n",
            "Requirement already satisfied: opencv_python==4.6.0.66 in /usr/local/lib/python3.7/dist-packages (from -r requirements.txt (line 3)) (4.6.0.66)\n",
            "Collecting torch==1.8.1+cu111\n",
            "  Downloading https://download.pytorch.org/whl/cu111/torch-1.8.1%2Bcu111-cp37-cp37m-linux_x86_64.whl (1982.2 MB)\n",
            "\u001b[K     |█████████████▌                  | 834.1 MB 1.8 MB/s eta 0:10:38tcmalloc: large alloc 1147494400 bytes == 0x3ab00000 @  0x7f516256b615 0x58ead6 0x4f355e 0x4d222f 0x51041f 0x5b4ee6 0x58ff2e 0x510325 0x5b4ee6 0x58ff2e 0x50d482 0x4d00fb 0x50cb8d 0x4d00fb 0x50cb8d 0x4d00fb 0x50cb8d 0x4bac0a 0x538a76 0x590ae5 0x510280 0x5b4ee6 0x58ff2e 0x50d482 0x5b4ee6 0x58ff2e 0x50c4fc 0x58fd37 0x50ca37 0x5b4ee6 0x58ff2e\n",
            "\u001b[K     |█████████████████               | 1055.7 MB 1.4 MB/s eta 0:10:43tcmalloc: large alloc 1434370048 bytes == 0x7f156000 @  0x7f516256b615 0x58ead6 0x4f355e 0x4d222f 0x51041f 0x5b4ee6 0x58ff2e 0x510325 0x5b4ee6 0x58ff2e 0x50d482 0x4d00fb 0x50cb8d 0x4d00fb 0x50cb8d 0x4d00fb 0x50cb8d 0x4bac0a 0x538a76 0x590ae5 0x510280 0x5b4ee6 0x58ff2e 0x50d482 0x5b4ee6 0x58ff2e 0x50c4fc 0x58fd37 0x50ca37 0x5b4ee6 0x58ff2e\n",
            "\u001b[K     |█████████████████████▋          | 1336.2 MB 1.5 MB/s eta 0:07:23tcmalloc: large alloc 1792966656 bytes == 0x3f88000 @  0x7f516256b615 0x58ead6 0x4f355e 0x4d222f 0x51041f 0x5b4ee6 0x58ff2e 0x510325 0x5b4ee6 0x58ff2e 0x50d482 0x4d00fb 0x50cb8d 0x4d00fb 0x50cb8d 0x4d00fb 0x50cb8d 0x4bac0a 0x538a76 0x590ae5 0x510280 0x5b4ee6 0x58ff2e 0x50d482 0x5b4ee6 0x58ff2e 0x50c4fc 0x58fd37 0x50ca37 0x5b4ee6 0x58ff2e\n",
            "\u001b[K     |███████████████████████████▎    | 1691.1 MB 1.2 MB/s eta 0:04:08tcmalloc: large alloc 2241208320 bytes == 0x6ed70000 @  0x7f516256b615 0x58ead6 0x4f355e 0x4d222f 0x51041f 0x5b4ee6 0x58ff2e 0x510325 0x5b4ee6 0x58ff2e 0x50d482 0x4d00fb 0x50cb8d 0x4d00fb 0x50cb8d 0x4d00fb 0x50cb8d 0x4bac0a 0x538a76 0x590ae5 0x510280 0x5b4ee6 0x58ff2e 0x50d482 0x5b4ee6 0x58ff2e 0x50c4fc 0x58fd37 0x50ca37 0x5b4ee6 0x58ff2e\n",
            "\u001b[K     |████████████████████████████████| 1982.2 MB 1.2 MB/s eta 0:00:01tcmalloc: large alloc 1982177280 bytes == 0xf46d2000 @  0x7f516256a1e7 0x4b2590 0x4b261c 0x58ead6 0x4f355e 0x4d222f 0x51041f 0x5b4ee6 0x58ff2e 0x50ca37 0x5b4ee6 0x58ff2e 0x50ca37 0x5b4ee6 0x58ff2e 0x50ca37 0x5b4ee6 0x58ff2e 0x50ca37 0x5b4ee6 0x58ff2e 0x50ca37 0x58fd37 0x50ca37 0x5b4ee6 0x58ff2e 0x50d482 0x5b4ee6 0x58ff2e 0x50d482 0x5b4ee6\n",
            "tcmalloc: large alloc 2477727744 bytes == 0x16a92c000 @  0x7f516256b615 0x58ead6 0x4f355e 0x4d222f 0x51041f 0x5b4ee6 0x58ff2e 0x50ca37 0x5b4ee6 0x58ff2e 0x50ca37 0x5b4ee6 0x58ff2e 0x50ca37 0x5b4ee6 0x58ff2e 0x50ca37 0x5b4ee6 0x58ff2e 0x50ca37 0x58fd37 0x50ca37 0x5b4ee6 0x58ff2e 0x50d482 0x5b4ee6 0x58ff2e 0x50d482 0x5b4ee6 0x4bad99 0x4d3249\n",
            "\u001b[K     |████████████████████████████████| 1982.2 MB 2.5 kB/s \n",
            "\u001b[?25hCollecting torchvision==0.9.1+cu111\n",
            "  Downloading https://download.pytorch.org/whl/cu111/torchvision-0.9.1%2Bcu111-cp37-cp37m-linux_x86_64.whl (17.6 MB)\n",
            "\u001b[K     |████████████████████████████████| 17.6 MB 239 kB/s \n",
            "\u001b[?25hRequirement already satisfied: pyparsing>=2.2.1 in /usr/local/lib/python3.7/dist-packages (from matplotlib==3.5.3->-r requirements.txt (line 1)) (3.0.9)\n",
            "Requirement already satisfied: python-dateutil>=2.7 in /usr/local/lib/python3.7/dist-packages (from matplotlib==3.5.3->-r requirements.txt (line 1)) (2.8.2)\n",
            "Requirement already satisfied: pillow>=6.2.0 in /usr/local/lib/python3.7/dist-packages (from matplotlib==3.5.3->-r requirements.txt (line 1)) (7.1.2)\n",
            "Requirement already satisfied: packaging>=20.0 in /usr/local/lib/python3.7/dist-packages (from matplotlib==3.5.3->-r requirements.txt (line 1)) (21.3)\n",
            "Collecting fonttools>=4.22.0\n",
            "  Downloading fonttools-4.38.0-py3-none-any.whl (965 kB)\n",
            "\u001b[K     |████████████████████████████████| 965 kB 5.4 MB/s \n",
            "\u001b[?25hRequirement already satisfied: cycler>=0.10 in /usr/local/lib/python3.7/dist-packages (from matplotlib==3.5.3->-r requirements.txt (line 1)) (0.11.0)\n",
            "Requirement already satisfied: kiwisolver>=1.0.1 in /usr/local/lib/python3.7/dist-packages (from matplotlib==3.5.3->-r requirements.txt (line 1)) (1.4.4)\n",
            "Requirement already satisfied: typing-extensions in /usr/local/lib/python3.7/dist-packages (from torch==1.8.1+cu111->-r requirements.txt (line 4)) (4.1.1)\n",
            "Requirement already satisfied: six>=1.5 in /usr/local/lib/python3.7/dist-packages (from python-dateutil>=2.7->matplotlib==3.5.3->-r requirements.txt (line 1)) (1.15.0)\n",
            "Installing collected packages: numpy, torch, fonttools, torchvision, matplotlib\n",
            "  Attempting uninstall: numpy\n",
            "    Found existing installation: numpy 1.21.6\n",
            "    Uninstalling numpy-1.21.6:\n",
            "      Successfully uninstalled numpy-1.21.6\n",
            "  Attempting uninstall: torch\n",
            "    Found existing installation: torch 1.12.1+cu113\n",
            "    Uninstalling torch-1.12.1+cu113:\n",
            "      Successfully uninstalled torch-1.12.1+cu113\n",
            "  Attempting uninstall: torchvision\n",
            "    Found existing installation: torchvision 0.13.1+cu113\n",
            "    Uninstalling torchvision-0.13.1+cu113:\n",
            "      Successfully uninstalled torchvision-0.13.1+cu113\n",
            "  Attempting uninstall: matplotlib\n",
            "    Found existing installation: matplotlib 3.2.2\n",
            "    Uninstalling matplotlib-3.2.2:\n",
            "      Successfully uninstalled matplotlib-3.2.2\n",
            "\u001b[31mERROR: pip's dependency resolver does not currently take into account all the packages that are installed. This behaviour is the source of the following dependency conflicts.\n",
            "xarray-einstats 0.2.2 requires numpy>=1.21, but you have numpy 1.19.2 which is incompatible.\n",
            "torchtext 0.13.1 requires torch==1.12.1, but you have torch 1.8.1+cu111 which is incompatible.\n",
            "torchaudio 0.12.1+cu113 requires torch==1.12.1, but you have torch 1.8.1+cu111 which is incompatible.\n",
            "tensorflow 2.9.2 requires numpy>=1.20, but you have numpy 1.19.2 which is incompatible.\n",
            "jaxlib 0.3.22+cuda11.cudnn805 requires numpy>=1.20, but you have numpy 1.19.2 which is incompatible.\n",
            "jax 0.3.23 requires numpy>=1.20, but you have numpy 1.19.2 which is incompatible.\n",
            "cmdstanpy 1.0.8 requires numpy>=1.21, but you have numpy 1.19.2 which is incompatible.\u001b[0m\n",
            "Successfully installed fonttools-4.38.0 matplotlib-3.5.3 numpy-1.19.2 torch-1.8.1+cu111 torchvision-0.9.1+cu111\n"
          ]
        }
      ]
    },
    {
      "cell_type": "code",
      "source": [
        "!python main.py --batch_size 32 --test_batch_size 32 --dataset vimeo90K_septuplet --loss 1*L1 --max_epoch 200 --lr 0.0002 --data_root \"/content/drive/My Drive/Duong/datasets/vimeo-septuplet\" --n_outputs 1"
      ],
      "metadata": {
        "id": "A6bwjpCOQAN9",
        "outputId": "95c5eb31-f32d-4e27-86b7-50ba1197cce3",
        "colab": {
          "base_uri": "https://localhost:8080/"
        }
      },
      "execution_count": 5,
      "outputs": [
        {
          "output_type": "stream",
          "name": "stdout",
          "text": [
            "Namespace(batch_size=32, beta1=0.9, beta2=0.99, checkpoint_dir='.', cuda=True, data_root='/content/drive/My Drive/Duong/datasets/vimeo-septuplet', dataset='vimeo90K_septuplet', exp_name='exp', joinType='concat', load_from=None, log_iter=60, loss='1*L1', lr=0.0002, max_epoch=200, model='unet_18', n_outputs=1, nbr_frame=4, nbr_width=1, num_gpu=1, num_workers=16, pretrained=None, random_seed=12345, resume=False, resume_exp=None, start_epoch=0, test_batch_size=32, upmode='transpose', use_tensorboard=False, val_freq=1)\n",
            "/usr/local/lib/python3.7/dist-packages/torch/utils/data/dataloader.py:566: UserWarning: This DataLoader will create 16 worker processes in total. Our suggested max number of worker in current system is 2, which is smaller than what this DataLoader is going to create. Please be aware that excessive worker creation might get DataLoader running slow or even freeze, lower the worker number to avoid potential slowness/freeze if necessary.\n",
            "  cpuset_checked))\n",
            "Building model: unet_18\n",
            "Preparing loss function:\n",
            "1.000 * L1\n",
            "Train Epoch: 0 [0/1]\tLoss: 0.235161\tPSNR: 11.1398\n",
            "Evaluating for epoch = 0\n",
            "100% 1/1 [00:04<00:00,  4.36s/it]\n",
            "Loss: 0.252807, PSNR: 10.576940, SSIM: 0.039547\n",
            "\n",
            "Train Epoch: 1 [0/1]\tLoss: 0.246978\tPSNR: 10.6254\n",
            "Evaluating for epoch = 1\n",
            "100% 1/1 [00:01<00:00,  1.17s/it]\n",
            "Loss: 0.253102, PSNR: 10.553047, SSIM: 0.038792\n",
            "\n",
            "Train Epoch: 2 [0/1]\tLoss: 0.235112\tPSNR: 11.1330\n",
            "Evaluating for epoch = 2\n",
            "100% 1/1 [00:01<00:00,  1.31s/it]\n",
            "Loss: 0.252685, PSNR: 10.551726, SSIM: 0.038418\n",
            "\n",
            "Train Epoch: 3 [0/1]\tLoss: 0.228021\tPSNR: 11.5255\n",
            "Evaluating for epoch = 3\n",
            "100% 1/1 [00:01<00:00,  1.26s/it]\n",
            "Loss: 0.251666, PSNR: 10.563403, SSIM: 0.038145\n",
            "\n",
            "Train Epoch: 4 [0/1]\tLoss: 0.238203\tPSNR: 11.1480\n",
            "Evaluating for epoch = 4\n",
            "100% 1/1 [00:01<00:00,  1.20s/it]\n",
            "Loss: 0.250093, PSNR: 10.568035, SSIM: 0.037348\n",
            "\n",
            "Train Epoch: 5 [0/1]\tLoss: 0.241523\tPSNR: 10.8181\n",
            "Evaluating for epoch = 5\n",
            "100% 1/1 [00:01<00:00,  1.25s/it]\n",
            "Loss: 0.246581, PSNR: 10.547154, SSIM: 0.035365\n",
            "\n",
            "Train Epoch: 6 [0/1]\tLoss: 0.242742\tPSNR: 10.6207\n",
            "Evaluating for epoch = 6\n",
            "100% 1/1 [00:01<00:00,  1.22s/it]\n",
            "Loss: 0.248618, PSNR: 9.275633, SSIM: 0.017841\n",
            "\n",
            "Train Epoch: 7 [0/1]\tLoss: 0.236371\tPSNR: 9.6753\n",
            "Evaluating for epoch = 7\n",
            "100% 1/1 [00:01<00:00,  1.23s/it]\n",
            "Loss: 0.239274, PSNR: 10.651865, SSIM: 0.035735\n",
            "\n",
            "Train Epoch: 8 [0/1]\tLoss: 0.216875\tPSNR: 11.5562\n",
            "Evaluating for epoch = 8\n",
            "100% 1/1 [00:01<00:00,  1.25s/it]\n",
            "Loss: 0.240538, PSNR: 10.728474, SSIM: 0.038186\n",
            "\n",
            "Traceback (most recent call last):\n",
            "  File \"main.py\", line 210, in <module>\n",
            "    main(args)\n",
            "  File \"main.py\", line 204, in main\n",
            "    }, save_loc, is_best, args.exp_name)\n",
            "  File \"/content/drive/MyDrive/Duong/FLAVR/code/myutils.py\", line 64, in save_checkpoint\n",
            "    shutil.copyfile(filename, os.path.join(directory , 'model_best.pth'))\n",
            "  File \"/usr/lib/python3.7/shutil.py\", line 122, in copyfile\n",
            "    copyfileobj(fsrc, fdst)\n",
            "  File \"/usr/lib/python3.7/shutil.py\", line 82, in copyfileobj\n",
            "    fdst.write(buf)\n",
            "KeyboardInterrupt\n"
          ]
        }
      ]
    }
  ]
}